{
 "cells": [
  {
   "cell_type": "code",
   "execution_count": 428,
   "metadata": {},
   "outputs": [],
   "source": [
    "import os\n",
    "import pandas as pd\n",
    "import gradio as gr\n",
    "\n",
    "import torch\n",
    "\n",
    "from utils import utils"
   ]
  },
  {
   "cell_type": "code",
   "execution_count": 429,
   "metadata": {},
   "outputs": [],
   "source": [
    "import warnings\n",
    "warnings.filterwarnings(\"ignore\")"
   ]
  },
  {
   "cell_type": "code",
   "execution_count": 430,
   "metadata": {},
   "outputs": [],
   "source": [
    "model_path = os.path.join(\".\", 'models', 'binaries')\n",
    "models = [model for model in os.listdir(model_path) if model.endswith(\".pth\")]\n",
    "models.sort()\n",
    "\n",
    "final_model = models[-1]\n",
    "final_model_path = os.path.join(model_path, final_model)\n",
    "\n",
    "del models"
   ]
  },
  {
   "cell_type": "code",
   "execution_count": 431,
   "metadata": {},
   "outputs": [],
   "source": [
    "embedding_state = torch.load(final_model_path)\n",
    "\n",
    "n_users = embedding_state['n_users']\n",
    "n_movies = embedding_state['n_movies']\n",
    "n_factors = embedding_state['n_factors']\n",
    "\n",
    "movie_bias = embedding_state['state_dict']['movie_bias.weight']\n",
    "movie_factors = embedding_state['state_dict']['movie_factors.weight']\n",
    "\n",
    "userLabel_to_Id = embedding_state[\"userLabel_to_Id\"]\n",
    "movieLabel_to_Id = embedding_state[\"movieLabel_to_Id\"]\n",
    "\n",
    "del embedding_state, final_model_path"
   ]
  },
  {
   "cell_type": "code",
   "execution_count": 432,
   "metadata": {},
   "outputs": [],
   "source": [
    "resource_path = os.path.join(\".\", 'data', 'ml-25m')\n",
    "movies_csv = os.path.join(resource_path, 'movies.csv')\n",
    "links_csv = os.path.join(resource_path, 'links.csv')\n",
    "\n",
    "movies = pd.read_csv(movies_csv)\n",
    "movies['genres'] = movies.genres.apply(lambda genres: genres.split('|'))\n",
    "\n",
    "links = pd.read_csv(links_csv, dtype = {'movieId': int, 'imdbId': str, 'tmdbId': str})\n",
    "movies = movies.merge(links)\n",
    "del links"
   ]
  },
  {
   "cell_type": "code",
   "execution_count": 433,
   "metadata": {},
   "outputs": [
    {
     "data": {
      "text/html": [
       "<div>\n",
       "<style scoped>\n",
       "    .dataframe tbody tr th:only-of-type {\n",
       "        vertical-align: middle;\n",
       "    }\n",
       "\n",
       "    .dataframe tbody tr th {\n",
       "        vertical-align: top;\n",
       "    }\n",
       "\n",
       "    .dataframe thead th {\n",
       "        text-align: right;\n",
       "    }\n",
       "</style>\n",
       "<table border=\"1\" class=\"dataframe\">\n",
       "  <thead>\n",
       "    <tr style=\"text-align: right;\">\n",
       "      <th></th>\n",
       "      <th>label</th>\n",
       "      <th>title</th>\n",
       "      <th>genres</th>\n",
       "      <th>imdbId</th>\n",
       "    </tr>\n",
       "  </thead>\n",
       "  <tbody>\n",
       "    <tr>\n",
       "      <th>0</th>\n",
       "      <td>0</td>\n",
       "      <td>Toy Story (1995)</td>\n",
       "      <td>[Adventure, Animation, Children, Comedy, Fantasy]</td>\n",
       "      <td>0114709</td>\n",
       "    </tr>\n",
       "    <tr>\n",
       "      <th>1</th>\n",
       "      <td>1</td>\n",
       "      <td>Jumanji (1995)</td>\n",
       "      <td>[Adventure, Children, Fantasy]</td>\n",
       "      <td>0113497</td>\n",
       "    </tr>\n",
       "    <tr>\n",
       "      <th>2</th>\n",
       "      <td>2</td>\n",
       "      <td>Heat (1995)</td>\n",
       "      <td>[Action, Crime, Thriller]</td>\n",
       "      <td>0113277</td>\n",
       "    </tr>\n",
       "    <tr>\n",
       "      <th>3</th>\n",
       "      <td>3</td>\n",
       "      <td>GoldenEye (1995)</td>\n",
       "      <td>[Action, Adventure, Thriller]</td>\n",
       "      <td>0113189</td>\n",
       "    </tr>\n",
       "    <tr>\n",
       "      <th>4</th>\n",
       "      <td>4</td>\n",
       "      <td>Ace Ventura: When Nature Calls (1995)</td>\n",
       "      <td>[Comedy]</td>\n",
       "      <td>0112281</td>\n",
       "    </tr>\n",
       "    <tr>\n",
       "      <th>...</th>\n",
       "      <td>...</td>\n",
       "      <td>...</td>\n",
       "      <td>...</td>\n",
       "      <td>...</td>\n",
       "    </tr>\n",
       "    <tr>\n",
       "      <th>195</th>\n",
       "      <td>195</td>\n",
       "      <td>Up (2009)</td>\n",
       "      <td>[Adventure, Animation, Children, Drama]</td>\n",
       "      <td>1049413</td>\n",
       "    </tr>\n",
       "    <tr>\n",
       "      <th>196</th>\n",
       "      <td>196</td>\n",
       "      <td>Avatar (2009)</td>\n",
       "      <td>[Action, Adventure, Sci-Fi, IMAX]</td>\n",
       "      <td>0499549</td>\n",
       "    </tr>\n",
       "    <tr>\n",
       "      <th>197</th>\n",
       "      <td>197</td>\n",
       "      <td>Inception (2010)</td>\n",
       "      <td>[Action, Crime, Drama, Mystery, Sci-Fi, Thrill...</td>\n",
       "      <td>1375666</td>\n",
       "    </tr>\n",
       "    <tr>\n",
       "      <th>198</th>\n",
       "      <td>198</td>\n",
       "      <td>Django Unchained (2012)</td>\n",
       "      <td>[Action, Drama, Western]</td>\n",
       "      <td>1853728</td>\n",
       "    </tr>\n",
       "    <tr>\n",
       "      <th>199</th>\n",
       "      <td>199</td>\n",
       "      <td>Interstellar (2014)</td>\n",
       "      <td>[Sci-Fi, IMAX]</td>\n",
       "      <td>0816692</td>\n",
       "    </tr>\n",
       "  </tbody>\n",
       "</table>\n",
       "<p>200 rows × 4 columns</p>\n",
       "</div>"
      ],
      "text/plain": [
       "     label                                  title  \\\n",
       "0        0                       Toy Story (1995)   \n",
       "1        1                         Jumanji (1995)   \n",
       "2        2                            Heat (1995)   \n",
       "3        3                       GoldenEye (1995)   \n",
       "4        4  Ace Ventura: When Nature Calls (1995)   \n",
       "..     ...                                    ...   \n",
       "195    195                              Up (2009)   \n",
       "196    196                          Avatar (2009)   \n",
       "197    197                       Inception (2010)   \n",
       "198    198                Django Unchained (2012)   \n",
       "199    199                    Interstellar (2014)   \n",
       "\n",
       "                                                genres   imdbId  \n",
       "0    [Adventure, Animation, Children, Comedy, Fantasy]  0114709  \n",
       "1                       [Adventure, Children, Fantasy]  0113497  \n",
       "2                            [Action, Crime, Thriller]  0113277  \n",
       "3                        [Action, Adventure, Thriller]  0113189  \n",
       "4                                             [Comedy]  0112281  \n",
       "..                                                 ...      ...  \n",
       "195            [Adventure, Animation, Children, Drama]  1049413  \n",
       "196                  [Action, Adventure, Sci-Fi, IMAX]  0499549  \n",
       "197  [Action, Crime, Drama, Mystery, Sci-Fi, Thrill...  1375666  \n",
       "198                           [Action, Drama, Western]  1853728  \n",
       "199                                     [Sci-Fi, IMAX]  0816692  \n",
       "\n",
       "[200 rows x 4 columns]"
      ]
     },
     "execution_count": 433,
     "metadata": {},
     "output_type": "execute_result"
    }
   ],
   "source": [
    "def get_movie_id(label):\n",
    "    id = movieLabel_to_Id([label])\n",
    "    return id.item(0)\n",
    "\n",
    "movies_dict = {\n",
    "    'label': [],\n",
    "    'title': [],\n",
    "    'genres':  [],\n",
    "    'imdbId': []\n",
    "}\n",
    "\n",
    "for label in range(n_movies):\n",
    "    movies_dict['label'].append(label)\n",
    "    movies_dict['title'].append(movies[movies['movieId']==get_movie_id(label)]['title'].item())\n",
    "    movies_dict['genres'].append(movies[movies['movieId']==get_movie_id(label)]['genres'].item())\n",
    "    movies_dict['imdbId'].append(movies[movies['movieId']==get_movie_id(label)]['imdbId'].item())\n",
    "\n",
    "movies = pd.DataFrame(movies_dict)\n",
    "del movies_dict\n",
    "movies"
   ]
  },
  {
   "cell_type": "code",
   "execution_count": 434,
   "metadata": {},
   "outputs": [],
   "source": [
    "def get_movie_name(label):\n",
    "    return movies[movies['label']==label]['title'].item()"
   ]
  },
  {
   "cell_type": "code",
   "execution_count": 435,
   "metadata": {},
   "outputs": [],
   "source": [
    "user_movies = dict()"
   ]
  },
  {
   "cell_type": "code",
   "execution_count": 436,
   "metadata": {},
   "outputs": [],
   "source": [
    "def add_movie_to_list(movie_title, rating):\n",
    "    label = movies[movies['title']==movie_title].label.item()\n",
    "    \n",
    "    user_movies[label] = rating\n",
    "    print(user_movies)"
   ]
  },
  {
   "cell_type": "code",
   "execution_count": 437,
   "metadata": {},
   "outputs": [],
   "source": [
    "def disp_user_movies():\n",
    "    if not len(user_movies):\n",
    "        return gr.Markdown('No movies added to list yet')\n",
    "    \n",
    "    md_table = 'No. | Movie | Rating\\n---|---|---'\n",
    "    sorted_user_movies = sorted(user_movies.items(), key=lambda x:x[1], reverse=True)\n",
    "    for i, (label, rating) in enumerate(sorted_user_movies):\n",
    "        md_table += f'\\n{i+1} | {get_movie_name(label)} | {rating}'\n",
    "\n",
    "    return gr.Markdown(md_table)\n",
    "\n",
    "def disp_user_recommendations(bias_weight):\n",
    "    if not len(user_movies):\n",
    "        return gr.Markdown('No movies added to list yet')\n",
    "    \n",
    "    recommendations = dict()\n",
    "    for label, rating in user_movies.items():\n",
    "        recommendations = utils.get_recommendations(label, movie_factors, movie_bias, rating, bias_weight, recommendations)\n",
    "\n",
    "    recommendations = sorted(recommendations.items(), key=lambda x:x[1], reverse=True)\n",
    "    recommendations = [label for label, _ in recommendations][:20]\n",
    "\n",
    "    md_table = 'No. | Movie\\n---|---'\n",
    "    for i, label in enumerate(recommendations):\n",
    "        md_table += f'\\n{i+1} | {get_movie_name(label)}'\n",
    "\n",
    "    return gr.Markdown(md_table)\n"
   ]
  },
  {
   "cell_type": "code",
   "execution_count": 438,
   "metadata": {},
   "outputs": [],
   "source": [
    "def set_bw(bias_wt):\n",
    "    return disp_user_recommendations(bias_wt)"
   ]
  },
  {
   "cell_type": "code",
   "execution_count": 439,
   "metadata": {},
   "outputs": [],
   "source": [
    "def add_movie(movie_title, rating, bias_wt):\n",
    "    add_movie_to_list(movie_title, rating)\n",
    "\n",
    "    return [disp_user_movies(), disp_user_recommendations(bias_wt)]"
   ]
  },
  {
   "cell_type": "code",
   "execution_count": 440,
   "metadata": {},
   "outputs": [],
   "source": [
    "def clear_user_movies():\n",
    "    user_movies.clear()\n",
    "\n",
    "    return [disp_user_movies(), disp_user_recommendations(0.2)]"
   ]
  },
  {
   "cell_type": "code",
   "execution_count": 441,
   "metadata": {},
   "outputs": [],
   "source": [
    "movie_list = sorted(movies.title.values.tolist())"
   ]
  },
  {
   "cell_type": "code",
   "execution_count": 442,
   "metadata": {},
   "outputs": [
    {
     "name": "stdout",
     "output_type": "stream",
     "text": [
      "Running on local URL:  http://127.0.0.1:7893\n",
      "\n",
      "To create a public link, set `share=True` in `launch()`.\n"
     ]
    },
    {
     "data": {
      "text/html": [
       "<div><iframe src=\"http://127.0.0.1:7893/\" width=\"100%\" height=\"500\" allow=\"autoplay; camera; microphone; clipboard-read; clipboard-write;\" frameborder=\"0\" allowfullscreen></iframe></div>"
      ],
      "text/plain": [
       "<IPython.core.display.HTML object>"
      ]
     },
     "metadata": {},
     "output_type": "display_data"
    },
    {
     "data": {
      "text/plain": []
     },
     "execution_count": 442,
     "metadata": {},
     "output_type": "execute_result"
    },
    {
     "name": "stdout",
     "output_type": "stream",
     "text": [
      "{30: 4.8}\n",
      "{30: 4.8, 181: 2}\n",
      "{30: 4.8, 181: 2, 185: 4.3}\n",
      "{185: 4.5}\n"
     ]
    }
   ],
   "source": [
    "with gr.Blocks() as app:\n",
    "    gr.Markdown('<h1 style=\"text-align: center;\">Movie Recommendation System</h1>')\n",
    "    gr.Markdown('<p style=\"text-align: center;\">Project by: Alex Prateek Shankar (2248302) and Sneh Shah (2248318)</p>')\n",
    "\n",
    "    with gr.Blocks():\n",
    "        movie_title = gr.Dropdown(\n",
    "            choices=movie_list,\n",
    "            label=\"Select Movie\"\n",
    "            )\n",
    "        rating = gr.Slider(\n",
    "            0.0, 5.0, \n",
    "            value=2.5, \n",
    "            step=0.1, \n",
    "            label=\"Rating\", \n",
    "            info=\"Give your rating for the movie\",\n",
    "            interactive=True\n",
    "            )\n",
    "        add_btn = gr.Button(\n",
    "            \"Add Movie\",\n",
    "            label=\"Click here to add movies to your list\"\n",
    "            )\n",
    "        \n",
    "    gr.Markdown('<hr>')\n",
    "\n",
    "    with gr.Blocks():\n",
    "        gr.Markdown('<h2 style=\"text-align: center;\">My Movies</h2>')\n",
    "\n",
    "        my_movies = disp_user_movies()\n",
    "\n",
    "        clear_movies = gr.Button(\n",
    "            \"Clear My Movies\",\n",
    "            label=\"Click here to clear your movies list\"\n",
    "        )\n",
    "\n",
    "    gr.Markdown('<hr>')\n",
    "\n",
    "    with gr.Blocks():\n",
    "        gr.Markdown('<h2 style=\"text-align: center;\">Bias Weight</h2>')\n",
    "\n",
    "        bias_wt = gr.Slider(\n",
    "            0.0, 1.0,\n",
    "            value=0.2,\n",
    "            step=0.1,\n",
    "            label=\"Bias Weight\",\n",
    "            info=\"This will affect how the pre-existing movie ratings will affect your recommendations\"\n",
    "        )\n",
    "        bw_btn = gr.Button(\n",
    "            \"Set Bias Weight\",\n",
    "            label=\"Click here to set the Bias Weight\"\n",
    "        )\n",
    "\n",
    "    gr.Markdown('<hr>')\n",
    "\n",
    "    with gr.Blocks():\n",
    "        gr.Markdown('<h2 style=\"text-align: center;\">My Top 20 Recommendations</h2>')\n",
    "\n",
    "        my_recommendations = disp_user_recommendations(0.2)\n",
    "\n",
    "    clear_movies.click(fn=clear_user_movies, outputs=[my_movies, my_recommendations])\n",
    "    bw_btn.click(fn=set_bw, inputs=[bias_wt], outputs=[my_recommendations])\n",
    "    add_btn.click(fn=add_movie, inputs=[movie_title, rating, bias_wt], outputs=[my_movies, my_recommendations])\n",
    "\n",
    "\n",
    "app.title = \"Neural Collaborative Filtering\"\n",
    "app.launch()"
   ]
  },
  {
   "cell_type": "code",
   "execution_count": null,
   "metadata": {},
   "outputs": [],
   "source": []
  }
 ],
 "metadata": {
  "kernelspec": {
   "display_name": "ncf",
   "language": "python",
   "name": "python3"
  },
  "language_info": {
   "codemirror_mode": {
    "name": "ipython",
    "version": 3
   },
   "file_extension": ".py",
   "mimetype": "text/x-python",
   "name": "python",
   "nbconvert_exporter": "python",
   "pygments_lexer": "ipython3",
   "version": "3.11.5"
  }
 },
 "nbformat": 4,
 "nbformat_minor": 2
}
